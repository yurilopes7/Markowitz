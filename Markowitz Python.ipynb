{
 "cells": [
  {
   "cell_type": "code",
   "execution_count": 2,
   "metadata": {},
   "outputs": [],
   "source": [
    "import investpy as inv\n",
    "import pandas as pd\n",
    "import matplotlib.pyplot as plt\n",
    "import numpy as np\n",
    "import scipy as sci\n",
    "import seaborn as sns\n",
    "from scipy.optimize import minimize"
   ]
  },
  {
   "cell_type": "code",
   "execution_count": 4,
   "metadata": {},
   "outputs": [],
   "source": [
    "lista_de_empresas = ['PETR4','USIM5','MGLU3','VALE3']\n",
    "\n",
    "#Escolher entre Titulos ou Juros_Futuro se quiser adicionar, pegar planilha no invest\n",
    "#titulos = ['NTNB2022','NTNB2026']\n",
    "#juros_futuro = ['DI1F22','DI1F25','DI1F27']\n",
    "\n",
    "inicio = '04/01/2021'\n",
    "fim = '10/03/2021'\n",
    "\n",
    "colunas =  lista_de_empresas # + titulos #+ juros_futuro\n",
    "df = pd.DataFrame()"
   ]
  },
  {
   "cell_type": "code",
   "execution_count": 3,
   "metadata": {},
   "outputs": [
    {
     "data": {
      "text/plain": [
       "['BEEF3', 'MRFG3', 'MRVE3', 'HAPV3', 'ITUB4']"
      ]
     },
     "execution_count": 3,
     "metadata": {},
     "output_type": "execute_result"
    }
   ],
   "source": [
    "colunas"
   ]
  },
  {
   "cell_type": "code",
   "execution_count": 5,
   "metadata": {},
   "outputs": [],
   "source": [
    "\n",
    "\n",
    "for empresa in lista_de_empresas:\n",
    "    empresa = inv.get_stock_historical_data(empresa, country= 'brazil',from_date= inicio, to_date= fim ,interval='Daily')\n",
    "    df = df.append(empresa['Close'])"
   ]
  },
  {
   "cell_type": "code",
   "execution_count": 84,
   "metadata": {
    "scrolled": true
   },
   "outputs": [
    {
     "name": "stderr",
     "output_type": "stream",
     "text": [
      "C:\\Users\\yuri_\\Anaconda3\\lib\\site-packages\\IPython\\core\\interactiveshell.py:3343: SettingWithCopyWarning: \n",
      "A value is trying to be set on a copy of a slice from a DataFrame\n",
      "\n",
      "See the caveats in the documentation: https://pandas.pydata.org/pandas-docs/stable/user_guide/indexing.html#returning-a-view-versus-a-copy\n",
      "  exec(code_obj, self.user_global_ns, self.user_ns)\n"
     ]
    }
   ],
   "source": [
    "#Se escolheu titulos, rodar essa célula com a planilha do excel na pasta\n",
    "for titulo in titulos:\n",
    "    titulo_tesouro = pd.read_csv(titulo + '.csv',sep = ',')\n",
    "    reverso_titulo = titulo_tesouro.iloc[::-1]\n",
    "    for i in range (len(reverso_titulo['Data'])):\n",
    "        z = reverso_titulo['Data'][i].split('.')\n",
    "        z = z[::-1]\n",
    "        reverso_titulo['Data'][i] = \"-\".join(z)\n",
    "    reverso_titulo['Data'] = pd.to_datetime(reverso_titulo['Data'])\n",
    "    reverso_titulo.index = reverso_titulo['Data']\n",
    "    \n",
    "    df = df.append(reverso_titulo['Último'])"
   ]
  },
  {
   "cell_type": "code",
   "execution_count": 50,
   "metadata": {
    "scrolled": true
   },
   "outputs": [],
   "source": [
    "#Se escolheu juros, rodar essa célula com a planilha do excel na pasta\n",
    "for DI1F in juros_futuro:\n",
    "    titulo = pd.read_excel(DI1F + '.xlsx')\n",
    "    reverso_titulo = titulo.iloc[::-1]\n",
    "    reverso_titulo['Data'] = pd.to_datetime( reverso_titulo['Data'])\n",
    "    reverso_titulo.index = reverso_titulo['Data']\n",
    "    x = reverso_titulo.groupby(reverso_titulo.index).first()\n",
    "    df = df.append(x['Fechamento'])"
   ]
  },
  {
   "cell_type": "code",
   "execution_count": 6,
   "metadata": {
    "scrolled": true
   },
   "outputs": [],
   "source": [
    "#Padrozinação do dataframe, observar se o número de colunas adicionadas bate com o dataframe\n",
    "df= df.transpose() \n",
    "df.columns = colunas\n",
    "df = df.dropna()"
   ]
  },
  {
   "cell_type": "code",
   "execution_count": 7,
   "metadata": {},
   "outputs": [
    {
     "data": {
      "text/html": [
       "<div>\n",
       "<style scoped>\n",
       "    .dataframe tbody tr th:only-of-type {\n",
       "        vertical-align: middle;\n",
       "    }\n",
       "\n",
       "    .dataframe tbody tr th {\n",
       "        vertical-align: top;\n",
       "    }\n",
       "\n",
       "    .dataframe thead th {\n",
       "        text-align: right;\n",
       "    }\n",
       "</style>\n",
       "<table border=\"1\" class=\"dataframe\">\n",
       "  <thead>\n",
       "    <tr style=\"text-align: right;\">\n",
       "      <th></th>\n",
       "      <th>PETR4</th>\n",
       "      <th>USIM5</th>\n",
       "      <th>MGLU3</th>\n",
       "      <th>VALE3</th>\n",
       "    </tr>\n",
       "  </thead>\n",
       "  <tbody>\n",
       "    <tr>\n",
       "      <th>2021-01-04</th>\n",
       "      <td>28.91</td>\n",
       "      <td>14.94</td>\n",
       "      <td>25.20</td>\n",
       "      <td>91.46</td>\n",
       "    </tr>\n",
       "    <tr>\n",
       "      <th>2021-01-05</th>\n",
       "      <td>30.04</td>\n",
       "      <td>15.10</td>\n",
       "      <td>24.76</td>\n",
       "      <td>93.00</td>\n",
       "    </tr>\n",
       "    <tr>\n",
       "      <th>2021-01-06</th>\n",
       "      <td>30.07</td>\n",
       "      <td>15.72</td>\n",
       "      <td>23.44</td>\n",
       "      <td>95.61</td>\n",
       "    </tr>\n",
       "    <tr>\n",
       "      <th>2021-01-07</th>\n",
       "      <td>31.00</td>\n",
       "      <td>16.59</td>\n",
       "      <td>23.16</td>\n",
       "      <td>102.32</td>\n",
       "    </tr>\n",
       "    <tr>\n",
       "      <th>2021-01-08</th>\n",
       "      <td>31.12</td>\n",
       "      <td>16.51</td>\n",
       "      <td>23.84</td>\n",
       "      <td>102.00</td>\n",
       "    </tr>\n",
       "    <tr>\n",
       "      <th>2021-01-11</th>\n",
       "      <td>30.86</td>\n",
       "      <td>16.71</td>\n",
       "      <td>23.49</td>\n",
       "      <td>101.98</td>\n",
       "    </tr>\n",
       "    <tr>\n",
       "      <th>2021-01-12</th>\n",
       "      <td>30.63</td>\n",
       "      <td>16.48</td>\n",
       "      <td>24.20</td>\n",
       "      <td>99.19</td>\n",
       "    </tr>\n",
       "    <tr>\n",
       "      <th>2021-01-13</th>\n",
       "      <td>29.15</td>\n",
       "      <td>15.48</td>\n",
       "      <td>24.02</td>\n",
       "      <td>96.22</td>\n",
       "    </tr>\n",
       "    <tr>\n",
       "      <th>2021-01-14</th>\n",
       "      <td>29.45</td>\n",
       "      <td>15.76</td>\n",
       "      <td>23.73</td>\n",
       "      <td>97.80</td>\n",
       "    </tr>\n",
       "    <tr>\n",
       "      <th>2021-01-15</th>\n",
       "      <td>28.12</td>\n",
       "      <td>15.02</td>\n",
       "      <td>23.96</td>\n",
       "      <td>93.55</td>\n",
       "    </tr>\n",
       "    <tr>\n",
       "      <th>2021-01-18</th>\n",
       "      <td>28.07</td>\n",
       "      <td>15.06</td>\n",
       "      <td>24.45</td>\n",
       "      <td>94.31</td>\n",
       "    </tr>\n",
       "    <tr>\n",
       "      <th>2021-01-19</th>\n",
       "      <td>28.69</td>\n",
       "      <td>14.35</td>\n",
       "      <td>24.08</td>\n",
       "      <td>94.06</td>\n",
       "    </tr>\n",
       "    <tr>\n",
       "      <th>2021-01-20</th>\n",
       "      <td>28.21</td>\n",
       "      <td>14.11</td>\n",
       "      <td>25.42</td>\n",
       "      <td>92.32</td>\n",
       "    </tr>\n",
       "    <tr>\n",
       "      <th>2021-01-21</th>\n",
       "      <td>27.55</td>\n",
       "      <td>14.16</td>\n",
       "      <td>25.49</td>\n",
       "      <td>93.36</td>\n",
       "    </tr>\n",
       "    <tr>\n",
       "      <th>2021-01-22</th>\n",
       "      <td>27.09</td>\n",
       "      <td>14.16</td>\n",
       "      <td>25.99</td>\n",
       "      <td>93.17</td>\n",
       "    </tr>\n",
       "    <tr>\n",
       "      <th>2021-01-26</th>\n",
       "      <td>27.00</td>\n",
       "      <td>13.52</td>\n",
       "      <td>25.75</td>\n",
       "      <td>91.75</td>\n",
       "    </tr>\n",
       "    <tr>\n",
       "      <th>2021-01-27</th>\n",
       "      <td>27.38</td>\n",
       "      <td>13.16</td>\n",
       "      <td>25.79</td>\n",
       "      <td>89.20</td>\n",
       "    </tr>\n",
       "    <tr>\n",
       "      <th>2021-01-28</th>\n",
       "      <td>27.76</td>\n",
       "      <td>13.91</td>\n",
       "      <td>26.19</td>\n",
       "      <td>91.10</td>\n",
       "    </tr>\n",
       "    <tr>\n",
       "      <th>2021-01-29</th>\n",
       "      <td>26.69</td>\n",
       "      <td>13.20</td>\n",
       "      <td>25.27</td>\n",
       "      <td>87.95</td>\n",
       "    </tr>\n",
       "    <tr>\n",
       "      <th>2021-02-01</th>\n",
       "      <td>27.53</td>\n",
       "      <td>13.35</td>\n",
       "      <td>24.93</td>\n",
       "      <td>91.27</td>\n",
       "    </tr>\n",
       "    <tr>\n",
       "      <th>2021-02-02</th>\n",
       "      <td>28.66</td>\n",
       "      <td>13.07</td>\n",
       "      <td>25.30</td>\n",
       "      <td>87.66</td>\n",
       "    </tr>\n",
       "    <tr>\n",
       "      <th>2021-02-03</th>\n",
       "      <td>28.85</td>\n",
       "      <td>13.02</td>\n",
       "      <td>25.65</td>\n",
       "      <td>90.43</td>\n",
       "    </tr>\n",
       "    <tr>\n",
       "      <th>2021-02-04</th>\n",
       "      <td>28.82</td>\n",
       "      <td>13.15</td>\n",
       "      <td>25.31</td>\n",
       "      <td>89.29</td>\n",
       "    </tr>\n",
       "    <tr>\n",
       "      <th>2021-02-05</th>\n",
       "      <td>29.02</td>\n",
       "      <td>13.73</td>\n",
       "      <td>25.85</td>\n",
       "      <td>92.69</td>\n",
       "    </tr>\n",
       "    <tr>\n",
       "      <th>2021-02-08</th>\n",
       "      <td>28.11</td>\n",
       "      <td>13.88</td>\n",
       "      <td>26.16</td>\n",
       "      <td>94.01</td>\n",
       "    </tr>\n",
       "    <tr>\n",
       "      <th>2021-02-09</th>\n",
       "      <td>27.54</td>\n",
       "      <td>14.06</td>\n",
       "      <td>26.24</td>\n",
       "      <td>94.25</td>\n",
       "    </tr>\n",
       "    <tr>\n",
       "      <th>2021-02-10</th>\n",
       "      <td>27.80</td>\n",
       "      <td>13.81</td>\n",
       "      <td>25.30</td>\n",
       "      <td>94.70</td>\n",
       "    </tr>\n",
       "    <tr>\n",
       "      <th>2021-02-11</th>\n",
       "      <td>28.08</td>\n",
       "      <td>14.14</td>\n",
       "      <td>25.65</td>\n",
       "      <td>93.10</td>\n",
       "    </tr>\n",
       "    <tr>\n",
       "      <th>2021-02-12</th>\n",
       "      <td>28.44</td>\n",
       "      <td>14.19</td>\n",
       "      <td>25.91</td>\n",
       "      <td>93.89</td>\n",
       "    </tr>\n",
       "    <tr>\n",
       "      <th>2021-02-17</th>\n",
       "      <td>29.59</td>\n",
       "      <td>15.01</td>\n",
       "      <td>25.50</td>\n",
       "      <td>96.35</td>\n",
       "    </tr>\n",
       "    <tr>\n",
       "      <th>2021-02-18</th>\n",
       "      <td>29.27</td>\n",
       "      <td>14.83</td>\n",
       "      <td>25.04</td>\n",
       "      <td>97.40</td>\n",
       "    </tr>\n",
       "    <tr>\n",
       "      <th>2021-02-19</th>\n",
       "      <td>27.33</td>\n",
       "      <td>14.97</td>\n",
       "      <td>24.94</td>\n",
       "      <td>97.77</td>\n",
       "    </tr>\n",
       "    <tr>\n",
       "      <th>2021-02-22</th>\n",
       "      <td>21.45</td>\n",
       "      <td>14.99</td>\n",
       "      <td>24.25</td>\n",
       "      <td>95.35</td>\n",
       "    </tr>\n",
       "    <tr>\n",
       "      <th>2021-02-23</th>\n",
       "      <td>24.06</td>\n",
       "      <td>15.74</td>\n",
       "      <td>24.86</td>\n",
       "      <td>96.95</td>\n",
       "    </tr>\n",
       "    <tr>\n",
       "      <th>2021-02-24</th>\n",
       "      <td>24.40</td>\n",
       "      <td>17.24</td>\n",
       "      <td>24.64</td>\n",
       "      <td>97.93</td>\n",
       "    </tr>\n",
       "    <tr>\n",
       "      <th>2021-02-25</th>\n",
       "      <td>23.19</td>\n",
       "      <td>16.41</td>\n",
       "      <td>24.06</td>\n",
       "      <td>95.71</td>\n",
       "    </tr>\n",
       "    <tr>\n",
       "      <th>2021-02-26</th>\n",
       "      <td>22.24</td>\n",
       "      <td>16.24</td>\n",
       "      <td>24.18</td>\n",
       "      <td>94.52</td>\n",
       "    </tr>\n",
       "    <tr>\n",
       "      <th>2021-03-01</th>\n",
       "      <td>22.00</td>\n",
       "      <td>16.85</td>\n",
       "      <td>24.55</td>\n",
       "      <td>98.57</td>\n",
       "    </tr>\n",
       "    <tr>\n",
       "      <th>2021-03-02</th>\n",
       "      <td>21.99</td>\n",
       "      <td>17.23</td>\n",
       "      <td>24.27</td>\n",
       "      <td>101.60</td>\n",
       "    </tr>\n",
       "    <tr>\n",
       "      <th>2021-03-03</th>\n",
       "      <td>21.19</td>\n",
       "      <td>17.32</td>\n",
       "      <td>25.12</td>\n",
       "      <td>100.35</td>\n",
       "    </tr>\n",
       "    <tr>\n",
       "      <th>2021-03-04</th>\n",
       "      <td>22.22</td>\n",
       "      <td>16.81</td>\n",
       "      <td>25.44</td>\n",
       "      <td>98.86</td>\n",
       "    </tr>\n",
       "    <tr>\n",
       "      <th>2021-03-05</th>\n",
       "      <td>22.39</td>\n",
       "      <td>17.79</td>\n",
       "      <td>25.13</td>\n",
       "      <td>100.21</td>\n",
       "    </tr>\n",
       "    <tr>\n",
       "      <th>2021-03-08</th>\n",
       "      <td>21.10</td>\n",
       "      <td>16.99</td>\n",
       "      <td>23.10</td>\n",
       "      <td>99.67</td>\n",
       "    </tr>\n",
       "    <tr>\n",
       "      <th>2021-03-09</th>\n",
       "      <td>21.59</td>\n",
       "      <td>17.09</td>\n",
       "      <td>23.39</td>\n",
       "      <td>98.67</td>\n",
       "    </tr>\n",
       "    <tr>\n",
       "      <th>2021-03-10</th>\n",
       "      <td>22.34</td>\n",
       "      <td>16.54</td>\n",
       "      <td>24.90</td>\n",
       "      <td>97.15</td>\n",
       "    </tr>\n",
       "  </tbody>\n",
       "</table>\n",
       "</div>"
      ],
      "text/plain": [
       "            PETR4  USIM5  MGLU3   VALE3\n",
       "2021-01-04  28.91  14.94  25.20   91.46\n",
       "2021-01-05  30.04  15.10  24.76   93.00\n",
       "2021-01-06  30.07  15.72  23.44   95.61\n",
       "2021-01-07  31.00  16.59  23.16  102.32\n",
       "2021-01-08  31.12  16.51  23.84  102.00\n",
       "2021-01-11  30.86  16.71  23.49  101.98\n",
       "2021-01-12  30.63  16.48  24.20   99.19\n",
       "2021-01-13  29.15  15.48  24.02   96.22\n",
       "2021-01-14  29.45  15.76  23.73   97.80\n",
       "2021-01-15  28.12  15.02  23.96   93.55\n",
       "2021-01-18  28.07  15.06  24.45   94.31\n",
       "2021-01-19  28.69  14.35  24.08   94.06\n",
       "2021-01-20  28.21  14.11  25.42   92.32\n",
       "2021-01-21  27.55  14.16  25.49   93.36\n",
       "2021-01-22  27.09  14.16  25.99   93.17\n",
       "2021-01-26  27.00  13.52  25.75   91.75\n",
       "2021-01-27  27.38  13.16  25.79   89.20\n",
       "2021-01-28  27.76  13.91  26.19   91.10\n",
       "2021-01-29  26.69  13.20  25.27   87.95\n",
       "2021-02-01  27.53  13.35  24.93   91.27\n",
       "2021-02-02  28.66  13.07  25.30   87.66\n",
       "2021-02-03  28.85  13.02  25.65   90.43\n",
       "2021-02-04  28.82  13.15  25.31   89.29\n",
       "2021-02-05  29.02  13.73  25.85   92.69\n",
       "2021-02-08  28.11  13.88  26.16   94.01\n",
       "2021-02-09  27.54  14.06  26.24   94.25\n",
       "2021-02-10  27.80  13.81  25.30   94.70\n",
       "2021-02-11  28.08  14.14  25.65   93.10\n",
       "2021-02-12  28.44  14.19  25.91   93.89\n",
       "2021-02-17  29.59  15.01  25.50   96.35\n",
       "2021-02-18  29.27  14.83  25.04   97.40\n",
       "2021-02-19  27.33  14.97  24.94   97.77\n",
       "2021-02-22  21.45  14.99  24.25   95.35\n",
       "2021-02-23  24.06  15.74  24.86   96.95\n",
       "2021-02-24  24.40  17.24  24.64   97.93\n",
       "2021-02-25  23.19  16.41  24.06   95.71\n",
       "2021-02-26  22.24  16.24  24.18   94.52\n",
       "2021-03-01  22.00  16.85  24.55   98.57\n",
       "2021-03-02  21.99  17.23  24.27  101.60\n",
       "2021-03-03  21.19  17.32  25.12  100.35\n",
       "2021-03-04  22.22  16.81  25.44   98.86\n",
       "2021-03-05  22.39  17.79  25.13  100.21\n",
       "2021-03-08  21.10  16.99  23.10   99.67\n",
       "2021-03-09  21.59  17.09  23.39   98.67\n",
       "2021-03-10  22.34  16.54  24.90   97.15"
      ]
     },
     "execution_count": 7,
     "metadata": {},
     "output_type": "execute_result"
    }
   ],
   "source": [
    "for coluna in colunas:\n",
    "    try:\n",
    "        df[coluna] = pd.to_numeric(df[coluna])  \n",
    "    except:\n",
    "        df[coluna] = df[coluna].str.replace('.','')\n",
    "        df[coluna] = df[coluna].str.replace(',','.')\n",
    "        df[coluna] = pd.to_numeric(df[coluna])\n",
    "df        "
   ]
  },
  {
   "cell_type": "markdown",
   "metadata": {},
   "source": [
    "Normalizando os dados..."
   ]
  },
  {
   "cell_type": "code",
   "execution_count": 68,
   "metadata": {
    "scrolled": true
   },
   "outputs": [
    {
     "data": {
      "text/html": [
       "<div>\n",
       "<style scoped>\n",
       "    .dataframe tbody tr th:only-of-type {\n",
       "        vertical-align: middle;\n",
       "    }\n",
       "\n",
       "    .dataframe tbody tr th {\n",
       "        vertical-align: top;\n",
       "    }\n",
       "\n",
       "    .dataframe thead th {\n",
       "        text-align: right;\n",
       "    }\n",
       "</style>\n",
       "<table border=\"1\" class=\"dataframe\">\n",
       "  <thead>\n",
       "    <tr style=\"text-align: right;\">\n",
       "      <th></th>\n",
       "      <th>PETR4</th>\n",
       "      <th>USIM5</th>\n",
       "      <th>MGLU3</th>\n",
       "      <th>VALE3</th>\n",
       "    </tr>\n",
       "  </thead>\n",
       "  <tbody>\n",
       "    <tr>\n",
       "      <th>2021-01-04</th>\n",
       "      <td>NaN</td>\n",
       "      <td>NaN</td>\n",
       "      <td>NaN</td>\n",
       "      <td>NaN</td>\n",
       "    </tr>\n",
       "    <tr>\n",
       "      <th>2021-01-05</th>\n",
       "      <td>0.039087</td>\n",
       "      <td>0.010710</td>\n",
       "      <td>-0.017460</td>\n",
       "      <td>0.016838</td>\n",
       "    </tr>\n",
       "    <tr>\n",
       "      <th>2021-01-06</th>\n",
       "      <td>0.000999</td>\n",
       "      <td>0.041060</td>\n",
       "      <td>-0.053312</td>\n",
       "      <td>0.028065</td>\n",
       "    </tr>\n",
       "    <tr>\n",
       "      <th>2021-01-07</th>\n",
       "      <td>0.030928</td>\n",
       "      <td>0.055344</td>\n",
       "      <td>-0.011945</td>\n",
       "      <td>0.070181</td>\n",
       "    </tr>\n",
       "    <tr>\n",
       "      <th>2021-01-08</th>\n",
       "      <td>0.003871</td>\n",
       "      <td>-0.004822</td>\n",
       "      <td>0.029361</td>\n",
       "      <td>-0.003127</td>\n",
       "    </tr>\n",
       "  </tbody>\n",
       "</table>\n",
       "</div>"
      ],
      "text/plain": [
       "               PETR4     USIM5     MGLU3     VALE3\n",
       "2021-01-04       NaN       NaN       NaN       NaN\n",
       "2021-01-05  0.039087  0.010710 -0.017460  0.016838\n",
       "2021-01-06  0.000999  0.041060 -0.053312  0.028065\n",
       "2021-01-07  0.030928  0.055344 -0.011945  0.070181\n",
       "2021-01-08  0.003871 -0.004822  0.029361 -0.003127"
      ]
     },
     "execution_count": 68,
     "metadata": {},
     "output_type": "execute_result"
    }
   ],
   "source": [
    "#Log do retorno diário\n",
    "retorno = (df/df.shift(1) - 1)\n",
    "retorno.head()"
   ]
  },
  {
   "cell_type": "code",
   "execution_count": 58,
   "metadata": {
    "scrolled": true
   },
   "outputs": [],
   "source": []
  },
  {
   "cell_type": "code",
   "execution_count": 59,
   "metadata": {},
   "outputs": [
    {
     "data": {
      "text/plain": [
       "1.0"
      ]
     },
     "execution_count": 59,
     "metadata": {},
     "output_type": "execute_result"
    }
   ],
   "source": []
  },
  {
   "cell_type": "code",
   "execution_count": 166,
   "metadata": {},
   "outputs": [],
   "source": [
    "\n",
    "np.random.seed(42) #semente aleatória\n",
    "num_ports = 10000\n",
    "all_weights = np.zeros((num_ports, len(df.columns)))\n",
    "ret_arr = np.zeros(num_ports)\n",
    "vol_arr = np.zeros(num_ports)\n",
    "sharpe_arr = np.zeros(num_ports)\n",
    "i = 0\n",
    "for x in range(num_ports):\n",
    "    # Weights\n",
    "    weights = np.array(np.random.random(len(df.columns)))\n",
    "    weights = weights/np.sum(weights)\n",
    "    \n",
    "    # Save weights\n",
    "    all_weights[x,:] = weights\n",
    "\n",
    "    # Expected return\n",
    "    ret_arr[x] = np.sum( (retorno.mean() * weights)) # 252 serve para anualizar o indice \n",
    "    #Multiplicação 252 esta certa?\n",
    "    # Tem certeza?\n",
    "    \n",
    "    vol_arr[x] = np.sqrt(np.dot(weights.T, np.dot(retorno.cov(), weights)))\n",
    "\n",
    "    # Sharpe Ratio\n",
    "    sharpe_arr[x] = (ret_arr[x]-0.00034)/vol_arr[x]\n",
    "    \n",
    "# Demora um pouco    "
   ]
  },
  {
   "cell_type": "code",
   "execution_count": null,
   "metadata": {},
   "outputs": [],
   "source": []
  },
  {
   "cell_type": "code",
   "execution_count": 167,
   "metadata": {},
   "outputs": [
    {
     "data": {
      "text/plain": [
       "(1000,)"
      ]
     },
     "execution_count": 167,
     "metadata": {},
     "output_type": "execute_result"
    }
   ],
   "source": [
    "# Numero de dados\n",
    "vol_arr.shape"
   ]
  },
  {
   "cell_type": "code",
   "execution_count": 168,
   "metadata": {},
   "outputs": [
    {
     "name": "stdout",
     "output_type": "stream",
     "text": [
      "Máximo Shape Ratio =  0.07194835221630878\n",
      "Localizado na linha =  651\n"
     ]
    }
   ],
   "source": [
    "print(\"Máximo Shape Ratio = \", sharpe_arr.max())\n",
    "print(\"Localizado na linha = \", sharpe_arr.argmax())\n",
    "linha = sharpe_arr.argmax()"
   ]
  },
  {
   "cell_type": "code",
   "execution_count": 169,
   "metadata": {},
   "outputs": [
    {
     "name": "stdout",
     "output_type": "stream",
     "text": [
      "[1.61447175e-04 6.12655095e-01 5.61581375e-02 3.31025320e-01]\n"
     ]
    }
   ],
   "source": [
    "print(all_weights[linha,:])\n",
    "max_sr_ret = ret_arr[sharpe_arr.argmax()]\n",
    "max_sr_vol = vol_arr[sharpe_arr.argmax()]\n",
    "min_sr_ret_vol = ret_arr[vol_arr.argmin()]\n",
    "min_sr_vol = vol_arr[vol_arr.argmin()]\n"
   ]
  },
  {
   "cell_type": "code",
   "execution_count": null,
   "metadata": {},
   "outputs": [],
   "source": [
    "eixo_x = np.zeros(11)\n",
    "eixo_y =np.zeros(11)\n",
    "for i in range(0,110,10):\n",
    "    eixo\n",
    "    "
   ]
  },
  {
   "cell_type": "code",
   "execution_count": 170,
   "metadata": {},
   "outputs": [
    {
     "data": {
      "text/html": [
       "<div>\n",
       "<style scoped>\n",
       "    .dataframe tbody tr th:only-of-type {\n",
       "        vertical-align: middle;\n",
       "    }\n",
       "\n",
       "    .dataframe tbody tr th {\n",
       "        vertical-align: top;\n",
       "    }\n",
       "\n",
       "    .dataframe thead th {\n",
       "        text-align: right;\n",
       "    }\n",
       "</style>\n",
       "<table border=\"1\" class=\"dataframe\">\n",
       "  <thead>\n",
       "    <tr style=\"text-align: right;\">\n",
       "      <th></th>\n",
       "      <th>PETR4</th>\n",
       "      <th>USIM5</th>\n",
       "      <th>MGLU3</th>\n",
       "      <th>VALE3</th>\n",
       "    </tr>\n",
       "  </thead>\n",
       "  <tbody>\n",
       "    <tr>\n",
       "      <th>2021-01-04</th>\n",
       "      <td>NaN</td>\n",
       "      <td>NaN</td>\n",
       "      <td>NaN</td>\n",
       "      <td>NaN</td>\n",
       "    </tr>\n",
       "    <tr>\n",
       "      <th>2021-01-05</th>\n",
       "      <td>0.039087</td>\n",
       "      <td>0.010710</td>\n",
       "      <td>-0.017460</td>\n",
       "      <td>0.016838</td>\n",
       "    </tr>\n",
       "    <tr>\n",
       "      <th>2021-01-06</th>\n",
       "      <td>0.000999</td>\n",
       "      <td>0.041060</td>\n",
       "      <td>-0.053312</td>\n",
       "      <td>0.028065</td>\n",
       "    </tr>\n",
       "    <tr>\n",
       "      <th>2021-01-07</th>\n",
       "      <td>0.030928</td>\n",
       "      <td>0.055344</td>\n",
       "      <td>-0.011945</td>\n",
       "      <td>0.070181</td>\n",
       "    </tr>\n",
       "    <tr>\n",
       "      <th>2021-01-08</th>\n",
       "      <td>0.003871</td>\n",
       "      <td>-0.004822</td>\n",
       "      <td>0.029361</td>\n",
       "      <td>-0.003127</td>\n",
       "    </tr>\n",
       "  </tbody>\n",
       "</table>\n",
       "</div>"
      ],
      "text/plain": [
       "               PETR4     USIM5     MGLU3     VALE3\n",
       "2021-01-04       NaN       NaN       NaN       NaN\n",
       "2021-01-05  0.039087  0.010710 -0.017460  0.016838\n",
       "2021-01-06  0.000999  0.041060 -0.053312  0.028065\n",
       "2021-01-07  0.030928  0.055344 -0.011945  0.070181\n",
       "2021-01-08  0.003871 -0.004822  0.029361 -0.003127"
      ]
     },
     "execution_count": 170,
     "metadata": {},
     "output_type": "execute_result"
    }
   ],
   "source": [
    "retorno.head()"
   ]
  },
  {
   "cell_type": "code",
   "execution_count": 171,
   "metadata": {},
   "outputs": [],
   "source": [
    "max_sr_vol = vol_arr[sharpe_arr.argmin()]"
   ]
  },
  {
   "cell_type": "code",
   "execution_count": 172,
   "metadata": {
    "scrolled": true
   },
   "outputs": [
    {
     "data": {
      "image/png": "[encoded data removed]",
      "text/plain": [
       "<Figure size 576x288 with 2 Axes>"
      ]
     },
     "metadata": {
      "needs_background": "light"
     },
     "output_type": "display_data"
    }
   ],
   "source": [
    "plt.figure(figsize=(8,4))\n",
    "plt.scatter(vol_arr, ret_arr, c=sharpe_arr, cmap='viridis')\n",
    "plt.colorbar(label='Sharpe Ratio')\n",
    "plt.xlabel('Volatility')\n",
    "plt.ylabel('Return')\n",
    "plt.scatter(max_sr_vol, max_sr_ret,c='red', s=20) # red dot\n",
    "plt.scatter(min_sr_vol, min_sr_ret_vol,c='black', s=20) # red dot\n",
    "plt.savefig('Markowitz.png')\n",
    "plt.show()\n"
   ]
  },
  {
   "cell_type": "code",
   "execution_count": 25,
   "metadata": {
    "scrolled": false
   },
   "outputs": [
    {
     "name": "stdout",
     "output_type": "stream",
     "text": [
      "Máximo Shape Ratio =  1.3367862126761527\n"
     ]
    },
    {
     "data": {
      "text/html": [
       "<div>\n",
       "<style scoped>\n",
       "    .dataframe tbody tr th:only-of-type {\n",
       "        vertical-align: middle;\n",
       "    }\n",
       "\n",
       "    .dataframe tbody tr th {\n",
       "        vertical-align: top;\n",
       "    }\n",
       "\n",
       "    .dataframe thead th {\n",
       "        text-align: right;\n",
       "    }\n",
       "</style>\n",
       "<table border=\"1\" class=\"dataframe\">\n",
       "  <thead>\n",
       "    <tr style=\"text-align: right;\">\n",
       "      <th></th>\n",
       "      <th>Ativo</th>\n",
       "      <th>Peso percentual</th>\n",
       "    </tr>\n",
       "  </thead>\n",
       "  <tbody>\n",
       "    <tr>\n",
       "      <th>0</th>\n",
       "      <td>PETR4</td>\n",
       "      <td>0.000161</td>\n",
       "    </tr>\n",
       "    <tr>\n",
       "      <th>1</th>\n",
       "      <td>USIM5</td>\n",
       "      <td>0.612655</td>\n",
       "    </tr>\n",
       "    <tr>\n",
       "      <th>2</th>\n",
       "      <td>MGLU3</td>\n",
       "      <td>0.056158</td>\n",
       "    </tr>\n",
       "    <tr>\n",
       "      <th>3</th>\n",
       "      <td>VALE3</td>\n",
       "      <td>0.331025</td>\n",
       "    </tr>\n",
       "  </tbody>\n",
       "</table>\n",
       "</div>"
      ],
      "text/plain": [
       "   Ativo  Peso percentual\n",
       "0  PETR4         0.000161\n",
       "1  USIM5         0.612655\n",
       "2  MGLU3         0.056158\n",
       "3  VALE3         0.331025"
      ]
     },
     "execution_count": 25,
     "metadata": {},
     "output_type": "execute_result"
    }
   ],
   "source": [
    "pesos = pd.DataFrame()\n",
    "pesos['Ativo'] = colunas\n",
    "pesos['Peso percentual'] = all_weights[linha,:] \n",
    "print(\"Máximo Shape Ratio = \", sharpe_arr.max())\n",
    "pesos\n"
   ]
  },
  {
   "cell_type": "code",
   "execution_count": 14,
   "metadata": {},
   "outputs": [],
   "source": [
    "# Essa parte vamos verificar uma forma mais eficiente de fazer o indice sharpe"
   ]
  },
  {
   "cell_type": "code",
   "execution_count": 26,
   "metadata": {},
   "outputs": [],
   "source": [
    "def get_ret_vol_sr(weights):\n",
    "    weights = np.array(weights)\n",
    "    ret = np.sum(log_ret.mean() * weights) * 252\n",
    "    vol = np.sqrt(np.dot(weights.T, np.dot(log_ret.cov()*252, weights)))\n",
    "    sr = ret/vol\n",
    "    return np.array([ret, vol, sr])\n",
    "\n",
    "def neg_sharpe(weights):\n",
    "# the number 2 is the sharpe ratio index from the get_ret_vol_sr\n",
    "    return get_ret_vol_sr(weights)[2] * -1\n",
    "\n",
    "def check_sum(weights):\n",
    "    #return 0 if sum of the weights is 1\n",
    "    return np.sum(weights)-1"
   ]
  },
  {
   "cell_type": "code",
   "execution_count": 27,
   "metadata": {},
   "outputs": [],
   "source": [
    "cons = ({'type':'eq', 'fun':check_sum})\n",
    "#limites de peso para cada ação\n",
    "bounds = ((0,1),(0,1),(0,1),(0,1))\n",
    "#estimativa de peso para cada ação\n",
    "init_guess = [0.2,0.2,0.2,0.2]"
   ]
  },
  {
   "cell_type": "code",
   "execution_count": 28,
   "metadata": {},
   "outputs": [
    {
     "name": "stdout",
     "output_type": "stream",
     "text": [
      "     fun: -1.3385040526496725\n",
      "     jac: array([ 3.22990991e+00,  1.78813934e-06,  3.50475311e-05, -6.04987144e-06])\n",
      " message: 'Optimization terminated successfully'\n",
      "    nfev: 45\n",
      "     nit: 9\n",
      "    njev: 9\n",
      "  status: 0\n",
      " success: True\n",
      "       x: array([0.        , 0.67876722, 0.01833132, 0.30290146])\n"
     ]
    }
   ],
   "source": [
    "opt_results = minimize(neg_sharpe, init_guess, method = 'SLSQP', bounds = bounds, constraints = cons)\n",
    "print(opt_results)\n"
   ]
  },
  {
   "cell_type": "code",
   "execution_count": 29,
   "metadata": {},
   "outputs": [
    {
     "data": {
      "text/plain": [
       "array([0.6247466 , 0.46674988, 1.33850405])"
      ]
     },
     "execution_count": 29,
     "metadata": {},
     "output_type": "execute_result"
    }
   ],
   "source": [
    "get_ret_vol_sr(opt_results.x)"
   ]
  },
  {
   "cell_type": "code",
   "execution_count": 30,
   "metadata": {},
   "outputs": [],
   "source": [
    "def minimizar_volatilidade(weights):\n",
    "    return(get_ret_vol_sr(weights)[1])\n"
   ]
  },
  {
   "cell_type": "code",
   "execution_count": 34,
   "metadata": {},
   "outputs": [],
   "source": [
    "frontier_y = np.linspace(-1,0.75,200)\n",
    "frontier_x = []\n",
    "\n",
    "for possible_return in frontier_y:\n",
    "    cons = ({'type':'eq', 'fun':check_sum},\n",
    "            {'type':'eq', 'fun': lambda w: get_ret_vol_sr(w)[0] - possible_return})\n",
    "    \n",
    "    result = minimize(minimizar_volatilidade,init_guess,method='SLSQP', bounds=bounds, constraints=cons)\n",
    "    frontier_x.append(result['fun'])"
   ]
  },
  {
   "cell_type": "code",
   "execution_count": 35,
   "metadata": {},
   "outputs": [
    {
     "data": {
      "image/png": "[encoded data removed]",
      "text/plain": [
       "<Figure size 1080x576 with 2 Axes>"
      ]
     },
     "metadata": {
      "needs_background": "light"
     },
     "output_type": "display_data"
    }
   ],
   "source": [
    "\n",
    "plt.figure(figsize=(15,8))\n",
    "plt.scatter(vol_arr, ret_arr, c=sharpe_arr, cmap='viridis')\n",
    "plt.colorbar(label='Sharpe Ratio')\n",
    "plt.xlabel('Volatility')\n",
    "plt.ylabel('Return')\n",
    "plt.scatter(max_sr_vol, max_sr_ret,c='red', s=20)\n",
    "plt.plot(frontier_x,frontier_y, 'r--', linewidth=2)\n",
    "plt.show()"
   ]
  },
  {
   "cell_type": "code",
   "execution_count": 33,
   "metadata": {},
   "outputs": [],
   "source": [
    "pesos = pd.DataFrame()\n",
    "pesos['Ativo'] = colunas\n",
    "pesos['Peso percentual'] = all_weights[linha,:] "
   ]
  },
  {
   "cell_type": "code",
   "execution_count": 26,
   "metadata": {},
   "outputs": [
    {
     "data": {
      "text/html": [
       "<div>\n",
       "<style scoped>\n",
       "    .dataframe tbody tr th:only-of-type {\n",
       "        vertical-align: middle;\n",
       "    }\n",
       "\n",
       "    .dataframe tbody tr th {\n",
       "        vertical-align: top;\n",
       "    }\n",
       "\n",
       "    .dataframe thead th {\n",
       "        text-align: right;\n",
       "    }\n",
       "</style>\n",
       "<table border=\"1\" class=\"dataframe\">\n",
       "  <thead>\n",
       "    <tr style=\"text-align: right;\">\n",
       "      <th></th>\n",
       "      <th>Ativo</th>\n",
       "      <th>Peso percentual</th>\n",
       "    </tr>\n",
       "  </thead>\n",
       "  <tbody>\n",
       "    <tr>\n",
       "      <th>0</th>\n",
       "      <td>BEEF3</td>\n",
       "      <td>0.255839</td>\n",
       "    </tr>\n",
       "    <tr>\n",
       "      <th>1</th>\n",
       "      <td>MRFG3</td>\n",
       "      <td>0.655239</td>\n",
       "    </tr>\n",
       "    <tr>\n",
       "      <th>2</th>\n",
       "      <td>MRVE3</td>\n",
       "      <td>0.048134</td>\n",
       "    </tr>\n",
       "    <tr>\n",
       "      <th>3</th>\n",
       "      <td>HAPV3</td>\n",
       "      <td>0.005398</td>\n",
       "    </tr>\n",
       "    <tr>\n",
       "      <th>4</th>\n",
       "      <td>ITUB4</td>\n",
       "      <td>0.035390</td>\n",
       "    </tr>\n",
       "  </tbody>\n",
       "</table>\n",
       "</div>"
      ],
      "text/plain": [
       "   Ativo  Peso percentual\n",
       "0  BEEF3         0.255839\n",
       "1  MRFG3         0.655239\n",
       "2  MRVE3         0.048134\n",
       "3  HAPV3         0.005398\n",
       "4  ITUB4         0.035390"
      ]
     },
     "execution_count": 26,
     "metadata": {},
     "output_type": "execute_result"
    }
   ],
   "source": [
    "pesos"
   ]
  },
  {
   "cell_type": "code",
   "execution_count": null,
   "metadata": {},
   "outputs": [],
   "source": []
  }
 ],
 "metadata": {
  "kernelspec": {
   "display_name": "Python 3",
   "language": "python",
   "name": "python3"
  },
  "language_info": {
   "codemirror_mode": {
    "name": "ipython",
    "version": 3
   },
   "file_extension": ".py",
   "mimetype": "text/x-python",
   "name": "python",
   "nbconvert_exporter": "python",
   "pygments_lexer": "ipython3",
   "version": "3.8.3"
  }
 },
 "nbformat": 4,
 "nbformat_minor": 2
}
